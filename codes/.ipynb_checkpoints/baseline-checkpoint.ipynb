{
 "cells": [
  {
   "cell_type": "code",
   "execution_count": 177,
   "metadata": {},
   "outputs": [],
   "source": [
    "import numpy as np\n",
    "import pandas as pd\n",
    "from collections import  Counter"
   ]
  },
  {
   "cell_type": "code",
   "execution_count": 178,
   "metadata": {},
   "outputs": [
    {
     "name": "stdout",
     "output_type": "stream",
     "text": [
      "(50000, 24)\n",
      "(50000, 24)\n"
     ]
    }
   ],
   "source": [
    "credit = pd.read_csv('../data/Xtrain.csv')  #for trian\n",
    "# credit = pd.read_csv('../data/Xtest.csv')     # for predict\n",
    "print(credit.shape)\n",
    "credit =credit.drop_duplicates()\n",
    "print(credit.shape)"
   ]
  },
  {
   "cell_type": "code",
   "execution_count": 179,
   "metadata": {},
   "outputs": [
    {
     "data": {
      "text/plain": [
       "(50000, 2)"
      ]
     },
     "execution_count": 179,
     "metadata": {},
     "output_type": "execute_result"
    }
   ],
   "source": [
    "train_y = pd.read_csv('../data/Ytrain.csv')\n",
    "train_y.shape\n"
   ]
  },
  {
   "cell_type": "code",
   "execution_count": 180,
   "metadata": {},
   "outputs": [
    {
     "data": {
      "text/plain": [
       "Counter({0: 25152, 1: 24848})"
      ]
     },
     "execution_count": 180,
     "metadata": {},
     "output_type": "execute_result"
    }
   ],
   "source": [
    "Counter(train_y.ChargeOff)\n",
    "## 样本均衡"
   ]
  },
  {
   "cell_type": "code",
   "execution_count": 181,
   "metadata": {},
   "outputs": [
    {
     "data": {
      "text/plain": [
       "Id                     0\n",
       "Name                   1\n",
       "City                   0\n",
       "State                  0\n",
       "Zip                    0\n",
       "Bank                  76\n",
       "BankState             77\n",
       "NAICS                  0\n",
       "ApprovalDate           0\n",
       "ApprovalFY             0\n",
       "Term                   0\n",
       "NoEmp                  0\n",
       "NewExist               7\n",
       "CreateJob              0\n",
       "RetainedJob            0\n",
       "FranchiseCode          0\n",
       "UrbanRural             0\n",
       "RevLineCr            153\n",
       "LowDoc               172\n",
       "DisbursementDate     119\n",
       "DisbursementGross      0\n",
       "BalanceGross           0\n",
       "GrAppv                 0\n",
       "SBA_Appv               0\n",
       "dtype: int64"
      ]
     },
     "execution_count": 181,
     "metadata": {},
     "output_type": "execute_result"
    }
   ],
   "source": [
    "credit.isnull().sum()"
   ]
  },
  {
   "cell_type": "code",
   "execution_count": 182,
   "metadata": {},
   "outputs": [],
   "source": [
    "# 在输入数据中加入label 方便操作\n",
    "credit.insert(24,'MIS_Status',train_y.ChargeOff)"
   ]
  },
  {
   "cell_type": "code",
   "execution_count": 183,
   "metadata": {},
   "outputs": [],
   "source": [
    "# 将金额转为float\n",
    "currency = [20,21,22,23]\n",
    "for i in currency:\n",
    "    credit[credit.columns[i]] = credit[credit.columns[i]].replace('[\\$,]', '', regex=True).astype(float) "
   ]
  },
  {
   "cell_type": "code",
   "execution_count": 184,
   "metadata": {},
   "outputs": [
    {
     "data": {
      "text/html": [
       "<div>\n",
       "<style scoped>\n",
       "    .dataframe tbody tr th:only-of-type {\n",
       "        vertical-align: middle;\n",
       "    }\n",
       "\n",
       "    .dataframe tbody tr th {\n",
       "        vertical-align: top;\n",
       "    }\n",
       "\n",
       "    .dataframe thead th {\n",
       "        text-align: right;\n",
       "    }\n",
       "</style>\n",
       "<table border=\"1\" class=\"dataframe\">\n",
       "  <thead>\n",
       "    <tr style=\"text-align: right;\">\n",
       "      <th></th>\n",
       "      <th>Id</th>\n",
       "      <th>Name</th>\n",
       "      <th>City</th>\n",
       "      <th>State</th>\n",
       "      <th>Zip</th>\n",
       "      <th>Bank</th>\n",
       "      <th>BankState</th>\n",
       "      <th>NAICS</th>\n",
       "      <th>ApprovalDate</th>\n",
       "      <th>ApprovalFY</th>\n",
       "      <th>...</th>\n",
       "      <th>B_SD</th>\n",
       "      <th>B_TN</th>\n",
       "      <th>B_TX</th>\n",
       "      <th>B_UT</th>\n",
       "      <th>B_VA</th>\n",
       "      <th>B_VT</th>\n",
       "      <th>B_WA</th>\n",
       "      <th>B_WI</th>\n",
       "      <th>B_WV</th>\n",
       "      <th>B_WY</th>\n",
       "    </tr>\n",
       "  </thead>\n",
       "  <tbody>\n",
       "    <tr>\n",
       "      <th>0</th>\n",
       "      <td>0</td>\n",
       "      <td>NPE Realty, LLC</td>\n",
       "      <td>Pembroke Pines</td>\n",
       "      <td>FL</td>\n",
       "      <td>33027</td>\n",
       "      <td>TD BANK, NATIONAL ASSOCIATION</td>\n",
       "      <td>DE</td>\n",
       "      <td>334516</td>\n",
       "      <td>16-Apr-10</td>\n",
       "      <td>2010</td>\n",
       "      <td>...</td>\n",
       "      <td>0</td>\n",
       "      <td>0</td>\n",
       "      <td>0</td>\n",
       "      <td>0</td>\n",
       "      <td>0</td>\n",
       "      <td>0</td>\n",
       "      <td>0</td>\n",
       "      <td>0</td>\n",
       "      <td>0</td>\n",
       "      <td>0</td>\n",
       "    </tr>\n",
       "    <tr>\n",
       "      <th>1</th>\n",
       "      <td>1</td>\n",
       "      <td>KEVCO  CONSTRUCTION, LLC</td>\n",
       "      <td>SANDY</td>\n",
       "      <td>UT</td>\n",
       "      <td>84094</td>\n",
       "      <td>ZIONS FIRST NATIONAL BANK</td>\n",
       "      <td>UT</td>\n",
       "      <td>236115</td>\n",
       "      <td>30-Jan-10</td>\n",
       "      <td>2010</td>\n",
       "      <td>...</td>\n",
       "      <td>0</td>\n",
       "      <td>0</td>\n",
       "      <td>0</td>\n",
       "      <td>1</td>\n",
       "      <td>0</td>\n",
       "      <td>0</td>\n",
       "      <td>0</td>\n",
       "      <td>0</td>\n",
       "      <td>0</td>\n",
       "      <td>0</td>\n",
       "    </tr>\n",
       "    <tr>\n",
       "      <th>2</th>\n",
       "      <td>2</td>\n",
       "      <td>EAST L A SHOE REPAIR</td>\n",
       "      <td>LOS ANGELES</td>\n",
       "      <td>CA</td>\n",
       "      <td>90022</td>\n",
       "      <td>BANK OF AMERICA NATL ASSOC</td>\n",
       "      <td>NC</td>\n",
       "      <td>811430</td>\n",
       "      <td>29-Jul-02</td>\n",
       "      <td>2002</td>\n",
       "      <td>...</td>\n",
       "      <td>0</td>\n",
       "      <td>0</td>\n",
       "      <td>0</td>\n",
       "      <td>0</td>\n",
       "      <td>0</td>\n",
       "      <td>0</td>\n",
       "      <td>0</td>\n",
       "      <td>0</td>\n",
       "      <td>0</td>\n",
       "      <td>0</td>\n",
       "    </tr>\n",
       "    <tr>\n",
       "      <th>3</th>\n",
       "      <td>3</td>\n",
       "      <td>RUSSLER, DANIEL C, MD</td>\n",
       "      <td>LODI</td>\n",
       "      <td>WI</td>\n",
       "      <td>53555</td>\n",
       "      <td>ASSOCIATED BANK NATL ASSOC</td>\n",
       "      <td>WI</td>\n",
       "      <td>0</td>\n",
       "      <td>10-Jun-94</td>\n",
       "      <td>1994</td>\n",
       "      <td>...</td>\n",
       "      <td>0</td>\n",
       "      <td>0</td>\n",
       "      <td>0</td>\n",
       "      <td>0</td>\n",
       "      <td>0</td>\n",
       "      <td>0</td>\n",
       "      <td>0</td>\n",
       "      <td>1</td>\n",
       "      <td>0</td>\n",
       "      <td>0</td>\n",
       "    </tr>\n",
       "    <tr>\n",
       "      <th>4</th>\n",
       "      <td>4</td>\n",
       "      <td>AFFORDABLE FAMILY DENISTRY LLC</td>\n",
       "      <td>LEBANON</td>\n",
       "      <td>MO</td>\n",
       "      <td>65536</td>\n",
       "      <td>COMMERCE BANK</td>\n",
       "      <td>MO</td>\n",
       "      <td>621210</td>\n",
       "      <td>6-Feb-06</td>\n",
       "      <td>2006</td>\n",
       "      <td>...</td>\n",
       "      <td>0</td>\n",
       "      <td>0</td>\n",
       "      <td>0</td>\n",
       "      <td>0</td>\n",
       "      <td>0</td>\n",
       "      <td>0</td>\n",
       "      <td>0</td>\n",
       "      <td>0</td>\n",
       "      <td>0</td>\n",
       "      <td>0</td>\n",
       "    </tr>\n",
       "  </tbody>\n",
       "</table>\n",
       "<p>5 rows × 128 columns</p>\n",
       "</div>"
      ],
      "text/plain": [
       "   Id                            Name            City State    Zip  \\\n",
       "0   0                 NPE Realty, LLC  Pembroke Pines    FL  33027   \n",
       "1   1        KEVCO  CONSTRUCTION, LLC           SANDY    UT  84094   \n",
       "2   2            EAST L A SHOE REPAIR     LOS ANGELES    CA  90022   \n",
       "3   3           RUSSLER, DANIEL C, MD            LODI    WI  53555   \n",
       "4   4  AFFORDABLE FAMILY DENISTRY LLC         LEBANON    MO  65536   \n",
       "\n",
       "                            Bank BankState   NAICS ApprovalDate ApprovalFY  \\\n",
       "0  TD BANK, NATIONAL ASSOCIATION        DE  334516    16-Apr-10       2010   \n",
       "1      ZIONS FIRST NATIONAL BANK        UT  236115    30-Jan-10       2010   \n",
       "2     BANK OF AMERICA NATL ASSOC        NC  811430    29-Jul-02       2002   \n",
       "3     ASSOCIATED BANK NATL ASSOC        WI       0    10-Jun-94       1994   \n",
       "4                  COMMERCE BANK        MO  621210     6-Feb-06       2006   \n",
       "\n",
       "  ...   B_SD  B_TN  B_TX  B_UT  B_VA  B_VT  B_WA B_WI B_WV B_WY  \n",
       "0 ...      0     0     0     0     0     0     0    0    0    0  \n",
       "1 ...      0     0     0     1     0     0     0    0    0    0  \n",
       "2 ...      0     0     0     0     0     0     0    0    0    0  \n",
       "3 ...      0     0     0     0     0     0     0    1    0    0  \n",
       "4 ...      0     0     0     0     0     0     0    0    0    0  \n",
       "\n",
       "[5 rows x 128 columns]"
      ]
     },
     "execution_count": 184,
     "metadata": {},
     "output_type": "execute_result"
    }
   ],
   "source": [
    "## 对于State 和 BankState 进行one-hot 编码\n",
    "credit = pd.concat([credit,pd.get_dummies(credit.State)],axis=1)\n",
    "temp = pd.get_dummies(credit.BankState)\n",
    "new_keys = ['B_'+key for key in temp.keys()]\n",
    "temp.columns = new_keys\n",
    "credit = pd.concat([credit,temp],axis=1)\n",
    "credit.head()"
   ]
  },
  {
   "cell_type": "markdown",
   "metadata": {},
   "source": [
    "# 删除一部分特征"
   ]
  },
  {
   "cell_type": "code",
   "execution_count": 185,
   "metadata": {
    "scrolled": true
   },
   "outputs": [],
   "source": [
    "credit = credit.drop(axis =1, columns = ['Id','City','Name','Bank', 'BankState', 'DisbursementDate', 'RevLineCr','State','NAICS'])\n",
    "credit = credit.drop(axis =1, columns = ['Zip','ApprovalDate','ApprovalFY','BalanceGross','SBA_Appv'])\n"
   ]
  },
  {
   "cell_type": "code",
   "execution_count": 186,
   "metadata": {},
   "outputs": [
    {
     "data": {
      "text/html": [
       "<div>\n",
       "<style scoped>\n",
       "    .dataframe tbody tr th:only-of-type {\n",
       "        vertical-align: middle;\n",
       "    }\n",
       "\n",
       "    .dataframe tbody tr th {\n",
       "        vertical-align: top;\n",
       "    }\n",
       "\n",
       "    .dataframe thead th {\n",
       "        text-align: right;\n",
       "    }\n",
       "</style>\n",
       "<table border=\"1\" class=\"dataframe\">\n",
       "  <thead>\n",
       "    <tr style=\"text-align: right;\">\n",
       "      <th></th>\n",
       "      <th>Term</th>\n",
       "      <th>NoEmp</th>\n",
       "      <th>NewExist</th>\n",
       "      <th>CreateJob</th>\n",
       "      <th>RetainedJob</th>\n",
       "      <th>FranchiseCode</th>\n",
       "      <th>UrbanRural</th>\n",
       "      <th>LowDoc</th>\n",
       "      <th>DisbursementGross</th>\n",
       "      <th>GrAppv</th>\n",
       "      <th>...</th>\n",
       "      <th>B_SD</th>\n",
       "      <th>B_TN</th>\n",
       "      <th>B_TX</th>\n",
       "      <th>B_UT</th>\n",
       "      <th>B_VA</th>\n",
       "      <th>B_VT</th>\n",
       "      <th>B_WA</th>\n",
       "      <th>B_WI</th>\n",
       "      <th>B_WV</th>\n",
       "      <th>B_WY</th>\n",
       "    </tr>\n",
       "  </thead>\n",
       "  <tbody>\n",
       "    <tr>\n",
       "      <th>0</th>\n",
       "      <td>130</td>\n",
       "      <td>25</td>\n",
       "      <td>1.0</td>\n",
       "      <td>2</td>\n",
       "      <td>0</td>\n",
       "      <td>0</td>\n",
       "      <td>1</td>\n",
       "      <td>N</td>\n",
       "      <td>2000000.0</td>\n",
       "      <td>2000000.0</td>\n",
       "      <td>...</td>\n",
       "      <td>0</td>\n",
       "      <td>0</td>\n",
       "      <td>0</td>\n",
       "      <td>0</td>\n",
       "      <td>0</td>\n",
       "      <td>0</td>\n",
       "      <td>0</td>\n",
       "      <td>0</td>\n",
       "      <td>0</td>\n",
       "      <td>0</td>\n",
       "    </tr>\n",
       "    <tr>\n",
       "      <th>1</th>\n",
       "      <td>33</td>\n",
       "      <td>6</td>\n",
       "      <td>1.0</td>\n",
       "      <td>1</td>\n",
       "      <td>3</td>\n",
       "      <td>0</td>\n",
       "      <td>1</td>\n",
       "      <td>N</td>\n",
       "      <td>17000.0</td>\n",
       "      <td>17000.0</td>\n",
       "      <td>...</td>\n",
       "      <td>0</td>\n",
       "      <td>0</td>\n",
       "      <td>0</td>\n",
       "      <td>1</td>\n",
       "      <td>0</td>\n",
       "      <td>0</td>\n",
       "      <td>0</td>\n",
       "      <td>0</td>\n",
       "      <td>0</td>\n",
       "      <td>0</td>\n",
       "    </tr>\n",
       "    <tr>\n",
       "      <th>2</th>\n",
       "      <td>60</td>\n",
       "      <td>1</td>\n",
       "      <td>1.0</td>\n",
       "      <td>1</td>\n",
       "      <td>1</td>\n",
       "      <td>1</td>\n",
       "      <td>1</td>\n",
       "      <td>N</td>\n",
       "      <td>17000.0</td>\n",
       "      <td>17000.0</td>\n",
       "      <td>...</td>\n",
       "      <td>0</td>\n",
       "      <td>0</td>\n",
       "      <td>0</td>\n",
       "      <td>0</td>\n",
       "      <td>0</td>\n",
       "      <td>0</td>\n",
       "      <td>0</td>\n",
       "      <td>0</td>\n",
       "      <td>0</td>\n",
       "      <td>0</td>\n",
       "    </tr>\n",
       "    <tr>\n",
       "      <th>3</th>\n",
       "      <td>160</td>\n",
       "      <td>1</td>\n",
       "      <td>2.0</td>\n",
       "      <td>0</td>\n",
       "      <td>0</td>\n",
       "      <td>1</td>\n",
       "      <td>0</td>\n",
       "      <td>N</td>\n",
       "      <td>137000.0</td>\n",
       "      <td>137000.0</td>\n",
       "      <td>...</td>\n",
       "      <td>0</td>\n",
       "      <td>0</td>\n",
       "      <td>0</td>\n",
       "      <td>0</td>\n",
       "      <td>0</td>\n",
       "      <td>0</td>\n",
       "      <td>0</td>\n",
       "      <td>1</td>\n",
       "      <td>0</td>\n",
       "      <td>0</td>\n",
       "    </tr>\n",
       "    <tr>\n",
       "      <th>4</th>\n",
       "      <td>101</td>\n",
       "      <td>2</td>\n",
       "      <td>1.0</td>\n",
       "      <td>7</td>\n",
       "      <td>2</td>\n",
       "      <td>1</td>\n",
       "      <td>1</td>\n",
       "      <td>N</td>\n",
       "      <td>46665.0</td>\n",
       "      <td>25000.0</td>\n",
       "      <td>...</td>\n",
       "      <td>0</td>\n",
       "      <td>0</td>\n",
       "      <td>0</td>\n",
       "      <td>0</td>\n",
       "      <td>0</td>\n",
       "      <td>0</td>\n",
       "      <td>0</td>\n",
       "      <td>0</td>\n",
       "      <td>0</td>\n",
       "      <td>0</td>\n",
       "    </tr>\n",
       "  </tbody>\n",
       "</table>\n",
       "<p>5 rows × 114 columns</p>\n",
       "</div>"
      ],
      "text/plain": [
       "   Term  NoEmp  NewExist  CreateJob  RetainedJob  FranchiseCode  UrbanRural  \\\n",
       "0   130     25       1.0          2            0              0           1   \n",
       "1    33      6       1.0          1            3              0           1   \n",
       "2    60      1       1.0          1            1              1           1   \n",
       "3   160      1       2.0          0            0              1           0   \n",
       "4   101      2       1.0          7            2              1           1   \n",
       "\n",
       "  LowDoc  DisbursementGross     GrAppv  ...   B_SD  B_TN  B_TX  B_UT  B_VA  \\\n",
       "0      N          2000000.0  2000000.0  ...      0     0     0     0     0   \n",
       "1      N            17000.0    17000.0  ...      0     0     0     1     0   \n",
       "2      N            17000.0    17000.0  ...      0     0     0     0     0   \n",
       "3      N           137000.0   137000.0  ...      0     0     0     0     0   \n",
       "4      N            46665.0    25000.0  ...      0     0     0     0     0   \n",
       "\n",
       "   B_VT  B_WA  B_WI  B_WV  B_WY  \n",
       "0     0     0     0     0     0  \n",
       "1     0     0     0     0     0  \n",
       "2     0     0     0     0     0  \n",
       "3     0     0     1     0     0  \n",
       "4     0     0     0     0     0  \n",
       "\n",
       "[5 rows x 114 columns]"
      ]
     },
     "execution_count": 186,
     "metadata": {},
     "output_type": "execute_result"
    }
   ],
   "source": [
    "credit.head()"
   ]
  },
  {
   "cell_type": "markdown",
   "metadata": {},
   "source": [
    "# 处理NewExist 异常值"
   ]
  },
  {
   "cell_type": "code",
   "execution_count": 191,
   "metadata": {},
   "outputs": [
    {
     "data": {
      "text/plain": [
       "Counter({1.0: 35636,\n",
       "         2.0: 14328,\n",
       "         0.0: 29,\n",
       "         nan: 1,\n",
       "         nan: 1,\n",
       "         nan: 1,\n",
       "         nan: 1,\n",
       "         nan: 1,\n",
       "         nan: 1,\n",
       "         nan: 1})"
      ]
     },
     "execution_count": 191,
     "metadata": {},
     "output_type": "execute_result"
    }
   ],
   "source": [
    "Counter(credit.NewExist)"
   ]
  },
  {
   "cell_type": "code",
   "execution_count": 192,
   "metadata": {},
   "outputs": [],
   "source": [
    "#We have a feature 'RetainedJob' - From the document, it shows number of jobs retained. \n",
    "#I can assume that if loan retains some jobs it is an existing business.\n",
    "# I will create a condition and iterate through loop to \n",
    "#assign new value \"1\" which is Existing business to those rows where Retained Job is >= 1\n",
    "cond_2 = credit[(credit['NewExist'] == 0) & (credit['RetainedJob'] >=1)].index\n",
    "for i in cond_2:\n",
    "    credit.loc[i,['NewExist']] = 1 "
   ]
  },
  {
   "cell_type": "code",
   "execution_count": 193,
   "metadata": {},
   "outputs": [],
   "source": [
    "#Next we will do the same thing with another condition: isnull and Retained Job >=1\n",
    "cond_3 = credit[(credit.NewExist.isnull()) & (credit['RetainedJob'] >=1)].index\n",
    "for i in cond_3:\n",
    "    credit.loc[i,['NewExist']] = 1    \n",
    "    \n",
    "credit = credit.dropna(axis =0, subset=['NewExist'])   ##for train\n",
    "# credit.NewExist = credit.NewExist.fillna(1)   ## for test"
   ]
  },
  {
   "cell_type": "markdown",
   "metadata": {},
   "source": [
    "# 处理LowDoc 异常值  "
   ]
  },
  {
   "cell_type": "code",
   "execution_count": 197,
   "metadata": {},
   "outputs": [
    {
     "data": {
      "text/plain": [
       "Counter({'N': 44713, 'Y': 4934})"
      ]
     },
     "execution_count": 197,
     "metadata": {},
     "output_type": "execute_result"
    }
   ],
   "source": [
    "# LowDoc 是一种立刻能得到15万刀的短期贷款\n",
    "# 这里简单的删去 异常条目\n",
    "Counter(credit.LowDoc)"
   ]
  },
  {
   "cell_type": "code",
   "execution_count": 198,
   "metadata": {},
   "outputs": [],
   "source": [
    "cond_6 = credit[(credit['LowDoc'] != \"Y\") & (credit['LowDoc'] != \"N\")]\n",
    "for i in cond_6.index:\n",
    "    credit.loc[i,'LowDoc'] = np.nan\n",
    "\n",
    "credit = credit.dropna(axis =0, subset=['LowDoc'])  ## for train\n",
    "# credit.LowDoc = credit.LowDoc.fillna('N')   #for test"
   ]
  },
  {
   "cell_type": "code",
   "execution_count": null,
   "metadata": {},
   "outputs": [],
   "source": []
  },
  {
   "cell_type": "code",
   "execution_count": 199,
   "metadata": {},
   "outputs": [],
   "source": [
    "def yes_no(i):\n",
    "    if i > 0:\n",
    "        return 1\n",
    "    return 0\n",
    "\n",
    "credit.Term = credit.Term//12\n",
    "credit['IscreateJob'] = credit.CreateJob.apply(yes_no)\n",
    "credit['IsRetained'] = credit.RetainedJob.apply(yes_no)\n",
    "credit['IsFranchise'] = credit.FranchiseCode.apply(yes_no)\n",
    "\n",
    "def lowdoc(i):\n",
    "    if i == \"Y\":\n",
    "        return 1\n",
    "    return 0\n",
    "credit.LowDoc = credit.LowDoc.apply(lowdoc)\n",
    "credit = credit.drop(axis =1, columns = ['FranchiseCode'])\n"
   ]
  },
  {
   "cell_type": "code",
   "execution_count": 200,
   "metadata": {},
   "outputs": [],
   "source": [
    "#Split data into train and test sets + label target value\n",
    "from sklearn.model_selection import train_test_split\n",
    "y = credit.MIS_Status\n",
    "X = credit.drop(['MIS_Status'], axis=1)\n",
    "train_X, test_X, train_y, test_y = train_test_split(X, y, test_size=0.25, random_state=0)"
   ]
  },
  {
   "cell_type": "code",
   "execution_count": 201,
   "metadata": {},
   "outputs": [
    {
     "data": {
      "text/html": [
       "<div>\n",
       "<style scoped>\n",
       "    .dataframe tbody tr th:only-of-type {\n",
       "        vertical-align: middle;\n",
       "    }\n",
       "\n",
       "    .dataframe tbody tr th {\n",
       "        vertical-align: top;\n",
       "    }\n",
       "\n",
       "    .dataframe thead th {\n",
       "        text-align: right;\n",
       "    }\n",
       "</style>\n",
       "<table border=\"1\" class=\"dataframe\">\n",
       "  <thead>\n",
       "    <tr style=\"text-align: right;\">\n",
       "      <th></th>\n",
       "      <th>Term</th>\n",
       "      <th>NoEmp</th>\n",
       "      <th>NewExist</th>\n",
       "      <th>CreateJob</th>\n",
       "      <th>RetainedJob</th>\n",
       "      <th>UrbanRural</th>\n",
       "      <th>LowDoc</th>\n",
       "      <th>DisbursementGross</th>\n",
       "      <th>GrAppv</th>\n",
       "      <th>MIS_Status</th>\n",
       "      <th>...</th>\n",
       "      <th>B_UT</th>\n",
       "      <th>B_VA</th>\n",
       "      <th>B_VT</th>\n",
       "      <th>B_WA</th>\n",
       "      <th>B_WI</th>\n",
       "      <th>B_WV</th>\n",
       "      <th>B_WY</th>\n",
       "      <th>IscreateJob</th>\n",
       "      <th>IsRetained</th>\n",
       "      <th>IsFranchise</th>\n",
       "    </tr>\n",
       "  </thead>\n",
       "  <tbody>\n",
       "    <tr>\n",
       "      <th>0</th>\n",
       "      <td>10</td>\n",
       "      <td>25</td>\n",
       "      <td>1.0</td>\n",
       "      <td>2</td>\n",
       "      <td>0</td>\n",
       "      <td>1</td>\n",
       "      <td>0</td>\n",
       "      <td>2000000.0</td>\n",
       "      <td>2000000.0</td>\n",
       "      <td>0</td>\n",
       "      <td>...</td>\n",
       "      <td>0</td>\n",
       "      <td>0</td>\n",
       "      <td>0</td>\n",
       "      <td>0</td>\n",
       "      <td>0</td>\n",
       "      <td>0</td>\n",
       "      <td>0</td>\n",
       "      <td>1</td>\n",
       "      <td>0</td>\n",
       "      <td>0</td>\n",
       "    </tr>\n",
       "    <tr>\n",
       "      <th>1</th>\n",
       "      <td>2</td>\n",
       "      <td>6</td>\n",
       "      <td>1.0</td>\n",
       "      <td>1</td>\n",
       "      <td>3</td>\n",
       "      <td>1</td>\n",
       "      <td>0</td>\n",
       "      <td>17000.0</td>\n",
       "      <td>17000.0</td>\n",
       "      <td>1</td>\n",
       "      <td>...</td>\n",
       "      <td>1</td>\n",
       "      <td>0</td>\n",
       "      <td>0</td>\n",
       "      <td>0</td>\n",
       "      <td>0</td>\n",
       "      <td>0</td>\n",
       "      <td>0</td>\n",
       "      <td>1</td>\n",
       "      <td>1</td>\n",
       "      <td>0</td>\n",
       "    </tr>\n",
       "    <tr>\n",
       "      <th>2</th>\n",
       "      <td>5</td>\n",
       "      <td>1</td>\n",
       "      <td>1.0</td>\n",
       "      <td>1</td>\n",
       "      <td>1</td>\n",
       "      <td>1</td>\n",
       "      <td>0</td>\n",
       "      <td>17000.0</td>\n",
       "      <td>17000.0</td>\n",
       "      <td>0</td>\n",
       "      <td>...</td>\n",
       "      <td>0</td>\n",
       "      <td>0</td>\n",
       "      <td>0</td>\n",
       "      <td>0</td>\n",
       "      <td>0</td>\n",
       "      <td>0</td>\n",
       "      <td>0</td>\n",
       "      <td>1</td>\n",
       "      <td>1</td>\n",
       "      <td>1</td>\n",
       "    </tr>\n",
       "    <tr>\n",
       "      <th>3</th>\n",
       "      <td>13</td>\n",
       "      <td>1</td>\n",
       "      <td>2.0</td>\n",
       "      <td>0</td>\n",
       "      <td>0</td>\n",
       "      <td>0</td>\n",
       "      <td>0</td>\n",
       "      <td>137000.0</td>\n",
       "      <td>137000.0</td>\n",
       "      <td>0</td>\n",
       "      <td>...</td>\n",
       "      <td>0</td>\n",
       "      <td>0</td>\n",
       "      <td>0</td>\n",
       "      <td>0</td>\n",
       "      <td>1</td>\n",
       "      <td>0</td>\n",
       "      <td>0</td>\n",
       "      <td>0</td>\n",
       "      <td>0</td>\n",
       "      <td>1</td>\n",
       "    </tr>\n",
       "    <tr>\n",
       "      <th>4</th>\n",
       "      <td>8</td>\n",
       "      <td>2</td>\n",
       "      <td>1.0</td>\n",
       "      <td>7</td>\n",
       "      <td>2</td>\n",
       "      <td>1</td>\n",
       "      <td>0</td>\n",
       "      <td>46665.0</td>\n",
       "      <td>25000.0</td>\n",
       "      <td>0</td>\n",
       "      <td>...</td>\n",
       "      <td>0</td>\n",
       "      <td>0</td>\n",
       "      <td>0</td>\n",
       "      <td>0</td>\n",
       "      <td>0</td>\n",
       "      <td>0</td>\n",
       "      <td>0</td>\n",
       "      <td>1</td>\n",
       "      <td>1</td>\n",
       "      <td>1</td>\n",
       "    </tr>\n",
       "  </tbody>\n",
       "</table>\n",
       "<p>5 rows × 116 columns</p>\n",
       "</div>"
      ],
      "text/plain": [
       "   Term  NoEmp  NewExist  CreateJob  RetainedJob  UrbanRural  LowDoc  \\\n",
       "0    10     25       1.0          2            0           1       0   \n",
       "1     2      6       1.0          1            3           1       0   \n",
       "2     5      1       1.0          1            1           1       0   \n",
       "3    13      1       2.0          0            0           0       0   \n",
       "4     8      2       1.0          7            2           1       0   \n",
       "\n",
       "   DisbursementGross     GrAppv  MIS_Status     ...       B_UT  B_VA  B_VT  \\\n",
       "0          2000000.0  2000000.0           0     ...          0     0     0   \n",
       "1            17000.0    17000.0           1     ...          1     0     0   \n",
       "2            17000.0    17000.0           0     ...          0     0     0   \n",
       "3           137000.0   137000.0           0     ...          0     0     0   \n",
       "4            46665.0    25000.0           0     ...          0     0     0   \n",
       "\n",
       "   B_WA  B_WI  B_WV  B_WY  IscreateJob  IsRetained  IsFranchise  \n",
       "0     0     0     0     0            1           0            0  \n",
       "1     0     0     0     0            1           1            0  \n",
       "2     0     0     0     0            1           1            1  \n",
       "3     0     1     0     0            0           0            1  \n",
       "4     0     0     0     0            1           1            1  \n",
       "\n",
       "[5 rows x 116 columns]"
      ]
     },
     "execution_count": 201,
     "metadata": {},
     "output_type": "execute_result"
    }
   ],
   "source": [
    "credit.head()"
   ]
  },
  {
   "cell_type": "code",
   "execution_count": 208,
   "metadata": {},
   "outputs": [],
   "source": [
    "\n",
    "import xgboost as xgb\n",
    "# os.environ['KMP_DUPLICATE_LIB_OK']='True'\n",
    "#Train the XGboost Model for Classification\n",
    "#Model with default parameters\n",
    "model = xgb.XGBClassifier()\n",
    "train_model = model.fit(train_X, train_y)"
   ]
  },
  {
   "cell_type": "code",
   "execution_count": 211,
   "metadata": {},
   "outputs": [],
   "source": [
    "pred = train_model.predict(test_X)"
   ]
  },
  {
   "cell_type": "code",
   "execution_count": 212,
   "metadata": {},
   "outputs": [
    {
     "name": "stdout",
     "output_type": "stream",
     "text": [
      "Accuracy for model: 87.33\n"
     ]
    }
   ],
   "source": [
    "from sklearn.metrics import accuracy_score\n",
    "print(\"Accuracy for model: %.2f\" % (accuracy_score(test_y, pred) * 100))"
   ]
  },
  {
   "cell_type": "code",
   "execution_count": 213,
   "metadata": {},
   "outputs": [],
   "source": [
    "n_folds = 5\n",
    "early_stopping = 20\n",
    "params = {'eta': 0.3, 'max_depth': 5, 'subsample': 0.7, 'colsample_bytree': 0.7, 'objective': 'binary:logistic', 'seed': 99, 'silent': 1, 'eval_metric':'auc', 'nthread':4}"
   ]
  },
  {
   "cell_type": "code",
   "execution_count": null,
   "metadata": {},
   "outputs": [
    {
     "name": "stdout",
     "output_type": "stream",
     "text": [
      "[0]\ttrain-auc:0.74512+0.00193\ttest-auc:0.74238+0.00546\n",
      "[1]\ttrain-auc:0.84357+0.07298\ttest-auc:0.84006+0.07183\n",
      "[2]\ttrain-auc:0.87562+0.05936\ttest-auc:0.87210+0.05742\n",
      "[3]\ttrain-auc:0.91153+0.01298\ttest-auc:0.90871+0.01230\n",
      "[4]\ttrain-auc:0.91830+0.00400\ttest-auc:0.91488+0.00487\n",
      "[5]\ttrain-auc:0.92165+0.00246\ttest-auc:0.91811+0.00385\n",
      "[6]\ttrain-auc:0.92342+0.00201\ttest-auc:0.91955+0.00384\n",
      "[7]\ttrain-auc:0.92639+0.00154\ttest-auc:0.92259+0.00265\n",
      "[8]\ttrain-auc:0.92770+0.00153\ttest-auc:0.92398+0.00318\n",
      "[9]\ttrain-auc:0.92943+0.00147\ttest-auc:0.92539+0.00305\n",
      "[10]\ttrain-auc:0.93105+0.00178\ttest-auc:0.92676+0.00331\n",
      "[11]\ttrain-auc:0.93206+0.00172\ttest-auc:0.92734+0.00325\n",
      "[12]\ttrain-auc:0.93368+0.00130\ttest-auc:0.92888+0.00315\n",
      "[13]\ttrain-auc:0.93497+0.00128\ttest-auc:0.93002+0.00339\n",
      "[14]\ttrain-auc:0.93606+0.00115\ttest-auc:0.93078+0.00306\n",
      "[15]\ttrain-auc:0.93715+0.00102\ttest-auc:0.93176+0.00269\n",
      "[16]\ttrain-auc:0.93774+0.00108\ttest-auc:0.93202+0.00249\n",
      "[17]\ttrain-auc:0.93849+0.00110\ttest-auc:0.93252+0.00227\n",
      "[18]\ttrain-auc:0.93936+0.00111\ttest-auc:0.93313+0.00229\n",
      "[19]\ttrain-auc:0.93993+0.00117\ttest-auc:0.93362+0.00206\n",
      "[20]\ttrain-auc:0.94064+0.00121\ttest-auc:0.93411+0.00250\n",
      "[21]\ttrain-auc:0.94155+0.00118\ttest-auc:0.93475+0.00245\n",
      "[22]\ttrain-auc:0.94218+0.00121\ttest-auc:0.93511+0.00240\n",
      "[23]\ttrain-auc:0.94264+0.00114\ttest-auc:0.93537+0.00252\n",
      "[24]\ttrain-auc:0.94310+0.00108\ttest-auc:0.93564+0.00254\n",
      "[25]\ttrain-auc:0.94350+0.00115\ttest-auc:0.93586+0.00236\n",
      "[26]\ttrain-auc:0.94412+0.00083\ttest-auc:0.93630+0.00247\n",
      "[27]\ttrain-auc:0.94446+0.00083\ttest-auc:0.93648+0.00242\n",
      "[28]\ttrain-auc:0.94509+0.00081\ttest-auc:0.93689+0.00241\n",
      "[29]\ttrain-auc:0.94551+0.00095\ttest-auc:0.93711+0.00259\n",
      "[30]\ttrain-auc:0.94592+0.00097\ttest-auc:0.93736+0.00240\n",
      "[31]\ttrain-auc:0.94635+0.00092\ttest-auc:0.93763+0.00241\n",
      "[32]\ttrain-auc:0.94657+0.00090\ttest-auc:0.93771+0.00243\n",
      "[33]\ttrain-auc:0.94701+0.00090\ttest-auc:0.93798+0.00254\n",
      "[34]\ttrain-auc:0.94735+0.00090\ttest-auc:0.93806+0.00257\n",
      "[35]\ttrain-auc:0.94777+0.00084\ttest-auc:0.93836+0.00273\n",
      "[36]\ttrain-auc:0.94808+0.00080\ttest-auc:0.93856+0.00271\n",
      "[37]\ttrain-auc:0.94847+0.00069\ttest-auc:0.93878+0.00275\n",
      "[38]\ttrain-auc:0.94876+0.00075\ttest-auc:0.93901+0.00260\n",
      "[39]\ttrain-auc:0.94915+0.00086\ttest-auc:0.93920+0.00237\n",
      "[40]\ttrain-auc:0.94935+0.00089\ttest-auc:0.93926+0.00248\n",
      "[41]\ttrain-auc:0.94963+0.00091\ttest-auc:0.93942+0.00238\n",
      "[42]\ttrain-auc:0.94996+0.00086\ttest-auc:0.93957+0.00237\n",
      "[43]\ttrain-auc:0.95035+0.00075\ttest-auc:0.93969+0.00248\n",
      "[44]\ttrain-auc:0.95059+0.00069\ttest-auc:0.93982+0.00241\n",
      "[45]\ttrain-auc:0.95096+0.00077\ttest-auc:0.94005+0.00239\n",
      "[46]\ttrain-auc:0.95129+0.00065\ttest-auc:0.94018+0.00244\n",
      "[47]\ttrain-auc:0.95149+0.00068\ttest-auc:0.94027+0.00235\n",
      "[48]\ttrain-auc:0.95183+0.00054\ttest-auc:0.94060+0.00242\n",
      "[49]\ttrain-auc:0.95205+0.00052\ttest-auc:0.94063+0.00232\n",
      "[50]\ttrain-auc:0.95228+0.00056\ttest-auc:0.94073+0.00224\n",
      "[51]\ttrain-auc:0.95258+0.00059\ttest-auc:0.94087+0.00221\n"
     ]
    }
   ],
   "source": [
    "## cross validation\n",
    "xg_train = xgb.DMatrix(train_X, label=train_y);\n",
    "cv = xgb.cv(params, xg_train, 5000, nfold=n_folds,early_stopping_rounds=early_stopping, verbose_eval=1)"
   ]
  },
  {
   "cell_type": "code",
   "execution_count": 176,
   "metadata": {},
   "outputs": [],
   "source": [
    "clf = xgb.train(params,xg_train,num_boost_round=cv.shape[0])"
   ]
  },
  {
   "cell_type": "code",
   "execution_count": 168,
   "metadata": {},
   "outputs": [],
   "source": [
    "dtest = xgb.DMatrix(credit)\n",
    "pred = clf.predict(dtest)"
   ]
  },
  {
   "cell_type": "code",
   "execution_count": 169,
   "metadata": {},
   "outputs": [],
   "source": [
    "pred = [1 if p>= 0.5 else 0 for p in pred]"
   ]
  },
  {
   "cell_type": "code",
   "execution_count": 172,
   "metadata": {},
   "outputs": [],
   "source": [
    "pred = pd.DataFrame(pred)\n",
    "pred.columns = ['ChargeOff']\n",
    "ids = [i for i in range(100000)]\n",
    "ids = pd.DataFrame(ids)\n",
    "ids.columns = ['Id']\n",
    "res = pd.concat([ids,pred],axis=1)\n"
   ]
  },
  {
   "cell_type": "code",
   "execution_count": 175,
   "metadata": {},
   "outputs": [],
   "source": [
    "res.to_csv('../res/output.csv',index=False)"
   ]
  },
  {
   "cell_type": "code",
   "execution_count": null,
   "metadata": {},
   "outputs": [],
   "source": []
  }
 ],
 "metadata": {
  "kernelspec": {
   "display_name": "Python 3",
   "language": "python",
   "name": "python3"
  },
  "language_info": {
   "codemirror_mode": {
    "name": "ipython",
    "version": 3
   },
   "file_extension": ".py",
   "mimetype": "text/x-python",
   "name": "python",
   "nbconvert_exporter": "python",
   "pygments_lexer": "ipython3",
   "version": "3.6.5"
  }
 },
 "nbformat": 4,
 "nbformat_minor": 2
}
